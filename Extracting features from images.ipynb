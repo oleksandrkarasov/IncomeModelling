{
 "cells": [
  {
   "cell_type": "markdown",
   "metadata": {},
   "source": [
    "Code adopted from IVPY package notebooks here https://github.com/damoncrockett/ivpy. See further information in paper: Crockett, D. (2019). Ivpy: Iconographic visualization inside computational notebooks. International Journal for Digital Art History, (4), 3-60."
   ]
  },
  {
   "cell_type": "code",
   "execution_count": 1,
   "metadata": {},
   "outputs": [],
   "source": [
    "# Import required packages (see instructions via the link above in installing ivpy)\n",
    "import pandas as pd\n",
    "from ivpy import attach,show,montage,histogram,scatter,compose\n",
    "from ivpy.extract import extract\n",
    "from ivpy.reduce import pca,tsne,umap\n",
    "from ivpy.cluster import cluster"
   ]
  },
  {
   "cell_type": "code",
   "execution_count": 2,
   "metadata": {},
   "outputs": [],
   "source": [
    "DIR = \"FOLDER WITH IMAGES\"\n",
    "df = pd.read_csv(\".CSV FILE WITH FILENAMES OF IMAGES\")"
   ]
  },
  {
   "cell_type": "code",
   "execution_count": 3,
   "metadata": {},
   "outputs": [],
   "source": [
    "df.filename = [DIR+item for item in df.filename]"
   ]
  },
  {
   "cell_type": "code",
   "execution_count": 4,
   "metadata": {},
   "outputs": [],
   "source": [
    "attach(df,'filename')"
   ]
  },
  {
   "cell_type": "markdown",
   "metadata": {},
   "source": [
    "# extract( )"
   ]
  },
  {
   "cell_type": "markdown",
   "metadata": {},
   "source": [
    "I included basic color features in oxfordflower.csv, to show off the plotting functions. But now we can extract those features ourselves with `extract()`. All you need to pass to extract is the image filepaths, and a keyword telling ivpy which feature to extract. Currently, the options are 'brightness', 'saturation', 'hue', 'entropy', 'std', 'contrast', 'dissimilarity', 'homogeneity', 'ASM', 'energy', 'correlation', 'neural', 'tags', or 'dmax'. Since we've already looked at the HSV properties, let's check out the others."
   ]
  },
  {
   "cell_type": "code",
   "execution_count": 8,
   "metadata": {},
   "outputs": [
    {
     "name": "stdout",
     "output_type": "stream",
     "text": [
      "5% 10% 15% 20% 25% 30% 35% 40% 45% 50% 55% 60% 65% 70% 75% 80% 85% 90% 95% "
     ]
    }
   ],
   "source": [
    "df['brightness'] = extract('brightness')"
   ]
  },
  {
   "cell_type": "code",
   "execution_count": 7,
   "metadata": {},
   "outputs": [
    {
     "name": "stdout",
     "output_type": "stream",
     "text": [
      "5% 10% 15% 20% 25% 30% 35% 40% 45% 50% 55% 60% 65% 70% 75% 80% 85% 90% 95% "
     ]
    }
   ],
   "source": [
    "df['saturation'] = extract('saturation')"
   ]
  },
  {
   "cell_type": "code",
   "execution_count": 6,
   "metadata": {},
   "outputs": [
    {
     "name": "stdout",
     "output_type": "stream",
     "text": [
      "5% 10% 15% 20% 25% 30% 35% 40% 45% 50% 55% 60% 65% 70% 75% 80% 85% 90% 95% "
     ]
    }
   ],
   "source": [
    "df['hue'] = extract('hue')"
   ]
  },
  {
   "cell_type": "code",
   "execution_count": 9,
   "metadata": {},
   "outputs": [
    {
     "name": "stdout",
     "output_type": "stream",
     "text": [
      "5% 10% 15% 20% 25% 30% 35% 40% 45% 50% 55% 60% 65% 70% 75% 80% 85% 90% 95% "
     ]
    }
   ],
   "source": [
    "df['entropy'] = extract('entropy')"
   ]
  },
  {
   "cell_type": "code",
   "execution_count": 10,
   "metadata": {},
   "outputs": [
    {
     "name": "stdout",
     "output_type": "stream",
     "text": [
      "5% 10% 15% 20% 25% 30% 35% 40% 45% 50% 55% 60% 65% 70% 75% 80% 85% 90% 95% "
     ]
    }
   ],
   "source": [
    "df['std'] = extract('std')"
   ]
  },
  {
   "cell_type": "code",
   "execution_count": 11,
   "metadata": {},
   "outputs": [
    {
     "name": "stdout",
     "output_type": "stream",
     "text": [
      "5% 10% 15% 20% 25% 30% 35% 40% 45% 50% 55% 60% 65% 70% 75% 80% 85% 90% 95% "
     ]
    }
   ],
   "source": [
    "df['contrast'] = extract('contrast')"
   ]
  },
  {
   "cell_type": "code",
   "execution_count": 12,
   "metadata": {},
   "outputs": [
    {
     "name": "stdout",
     "output_type": "stream",
     "text": [
      "5% 10% 15% 20% 25% 30% 35% 40% 45% 50% 55% 60% 65% 70% 75% 80% 85% 90% 95% "
     ]
    }
   ],
   "source": [
    "df['dissimilarity'] = extract('dissimilarity')"
   ]
  },
  {
   "cell_type": "code",
   "execution_count": null,
   "metadata": {},
   "outputs": [
    {
     "name": "stdout",
     "output_type": "stream",
     "text": [
      "5% 10% 15% 20% 25% 30% 35% 40% 45% 50% 55% 60% 65% 70% 75% 80% 85% 90% "
     ]
    }
   ],
   "source": [
    "df['homogeneity'] = extract('homogeneity')"
   ]
  },
  {
   "cell_type": "code",
   "execution_count": 5,
   "metadata": {},
   "outputs": [
    {
     "name": "stdout",
     "output_type": "stream",
     "text": [
      "5% 10% 15% 20% 25% 30% 35% 40% 45% 50% 55% 60% 65% 70% 75% 80% 85% 90% 95% "
     ]
    }
   ],
   "source": [
    "df['ASM'] = extract('ASM')"
   ]
  },
  {
   "cell_type": "code",
   "execution_count": 6,
   "metadata": {},
   "outputs": [
    {
     "name": "stdout",
     "output_type": "stream",
     "text": [
      "5% 10% 15% 20% 25% 30% 35% 40% 45% 50% 55% 60% 65% 70% 75% 80% 85% 90% 95% "
     ]
    }
   ],
   "source": [
    "df['energy'] = extract('energy')"
   ]
  },
  {
   "cell_type": "code",
   "execution_count": 7,
   "metadata": {},
   "outputs": [
    {
     "name": "stdout",
     "output_type": "stream",
     "text": [
      "5% 10% 15% 20% 25% 30% 35% 40% 45% 50% 55% 60% 65% 70% 75% 80% 85% 90% 95% "
     ]
    }
   ],
   "source": [
    "df['correlation'] = extract('correlation')"
   ]
  },
  {
   "cell_type": "code",
   "execution_count": 8,
   "metadata": {},
   "outputs": [
    {
     "data": {
      "text/html": [
       "<div>\n",
       "<style scoped>\n",
       "    .dataframe tbody tr th:only-of-type {\n",
       "        vertical-align: middle;\n",
       "    }\n",
       "\n",
       "    .dataframe tbody tr th {\n",
       "        vertical-align: top;\n",
       "    }\n",
       "\n",
       "    .dataframe thead th {\n",
       "        text-align: right;\n",
       "    }\n",
       "</style>\n",
       "<table border=\"1\" class=\"dataframe\">\n",
       "  <thead>\n",
       "    <tr style=\"text-align: right;\">\n",
       "      <th></th>\n",
       "      <th>filename</th>\n",
       "      <th>ASM</th>\n",
       "      <th>energy</th>\n",
       "      <th>correlation</th>\n",
       "    </tr>\n",
       "  </thead>\n",
       "  <tbody>\n",
       "    <tr>\n",
       "      <th>0</th>\n",
       "      <td>SYD_GSV2/___5FlZ8w8NwK6vPJQDo9Q_0.jpg</td>\n",
       "      <td>0.000788</td>\n",
       "      <td>0.028063</td>\n",
       "      <td>0.986106</td>\n",
       "    </tr>\n",
       "    <tr>\n",
       "      <th>1</th>\n",
       "      <td>SYD_GSV2/___5FlZ8w8NwK6vPJQDo9Q_120.jpg</td>\n",
       "      <td>0.000864</td>\n",
       "      <td>0.029392</td>\n",
       "      <td>0.985421</td>\n",
       "    </tr>\n",
       "    <tr>\n",
       "      <th>2</th>\n",
       "      <td>SYD_GSV2/___5FlZ8w8NwK6vPJQDo9Q_240.jpg</td>\n",
       "      <td>0.002311</td>\n",
       "      <td>0.048076</td>\n",
       "      <td>0.984462</td>\n",
       "    </tr>\n",
       "    <tr>\n",
       "      <th>3</th>\n",
       "      <td>SYD_GSV2/__0xZ_pbfHwxot-8MetIlg_0.jpg</td>\n",
       "      <td>0.000552</td>\n",
       "      <td>0.023487</td>\n",
       "      <td>0.942446</td>\n",
       "    </tr>\n",
       "    <tr>\n",
       "      <th>4</th>\n",
       "      <td>SYD_GSV2/__0xZ_pbfHwxot-8MetIlg_120.jpg</td>\n",
       "      <td>0.000493</td>\n",
       "      <td>0.022209</td>\n",
       "      <td>0.940964</td>\n",
       "    </tr>\n",
       "  </tbody>\n",
       "</table>\n",
       "</div>"
      ],
      "text/plain": [
       "                                  filename       ASM    energy  correlation\n",
       "0    SYD_GSV2/___5FlZ8w8NwK6vPJQDo9Q_0.jpg  0.000788  0.028063     0.986106\n",
       "1  SYD_GSV2/___5FlZ8w8NwK6vPJQDo9Q_120.jpg  0.000864  0.029392     0.985421\n",
       "2  SYD_GSV2/___5FlZ8w8NwK6vPJQDo9Q_240.jpg  0.002311  0.048076     0.984462\n",
       "3    SYD_GSV2/__0xZ_pbfHwxot-8MetIlg_0.jpg  0.000552  0.023487     0.942446\n",
       "4  SYD_GSV2/__0xZ_pbfHwxot-8MetIlg_120.jpg  0.000493  0.022209     0.940964"
      ]
     },
     "execution_count": 8,
     "metadata": {},
     "output_type": "execute_result"
    }
   ],
   "source": [
    "df.head()"
   ]
  },
  {
   "cell_type": "code",
   "execution_count": null,
   "metadata": {},
   "outputs": [],
   "source": [
    "df.to_csv('NAME OF THE RESULTING FILE')"
   ]
  },
  {
   "cell_type": "code",
   "execution_count": null,
   "metadata": {},
   "outputs": [],
   "source": [
    "montage(xcol='entropy',shape='circle',ascending=True)"
   ]
  }
 ],
 "metadata": {
  "kernelspec": {
   "display_name": "Python 3 (ipykernel)",
   "language": "python",
   "name": "python3"
  },
  "language_info": {
   "codemirror_mode": {
    "name": "ipython",
    "version": 3
   },
   "file_extension": ".py",
   "mimetype": "text/x-python",
   "name": "python",
   "nbconvert_exporter": "python",
   "pygments_lexer": "ipython3",
   "version": "3.9.12"
  }
 },
 "nbformat": 4,
 "nbformat_minor": 2
}
